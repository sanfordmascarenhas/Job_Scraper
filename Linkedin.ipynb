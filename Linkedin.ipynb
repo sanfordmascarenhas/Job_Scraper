{
 "cells": [
  {
   "cell_type": "markdown",
   "id": "f5be08bf",
   "metadata": {},
   "source": [
    "### Web scrabed using the coded present on the link below\n",
    "https://maoviola.medium.com/a-complete-guide-to-web-scraping-linkedin-job-postings-ad290fcaa97f\n",
    "\n",
    "### Used the link below to write/append existing dataframe to an existing google sheet\n",
    "https://medium.com/@jb.ranchana/write-and-append-dataframes-to-google-sheets-in-python-f62479460cf0\n",
    "\n",
    "### link to the google sheet where we will be tracking job postings.\n",
    "https://docs.google.com/spreadsheets/d/1RnwjV0Qd_OdMWSRLoVsUOs_mKn5DEgMDOwD0Hhsc0Kg/edit#gid=0\n",
    "\n",
    "### Read and Write data in GS \n",
    "https://aryanirani123.medium.com/read-and-write-data-in-google-sheets-using-python-and-the-google-sheets-api-6e206a242f20\n",
    "\n",
    "### Instructions on how to create a CRON\n",
    "https://www.jcchouinard.com/python-automation-with-cron-on-mac/#What_You_Will_Need"
   ]
  },
  {
   "cell_type": "code",
   "execution_count": 1,
   "id": "8ac3e2fa",
   "metadata": {},
   "outputs": [],
   "source": [
    "# All imports\n",
    "from selenium import webdriver\n",
    "import time\n",
    "import pandas as pd\n",
    "import os"
   ]
  },
  {
   "cell_type": "code",
   "execution_count": 2,
   "id": "73a86b1f",
   "metadata": {},
   "outputs": [],
   "source": [
    "url=\"https://www.linkedin.com/jobs/search/?currentJobId=3170092398&geoId=105149290&keywords=coop%20data%20analyst&location=Ontario%2C%20Canada&refresh=true\""
   ]
  },
  {
   "cell_type": "code",
   "execution_count": 3,
   "id": "075b6975",
   "metadata": {},
   "outputs": [],
   "source": [
    "\n",
    "os.chdir('/Users/tony/Desktop/')"
   ]
  },
  {
   "cell_type": "code",
   "execution_count": 5,
   "id": "25bfe8da",
   "metadata": {},
   "outputs": [],
   "source": [
    "# headless mode\n",
    "# options = webdriver.ChromeOptions()\n",
    "# options.add_argument(\"headless\")\n",
    "# wd = webdriver.Chrome(chrome_options=options)\n",
    "# wd.get(url)\n",
    "\n",
    "# window popup\n",
    "wd = webdriver.Chrome()\n",
    "wd.get(url)"
   ]
  },
  {
   "cell_type": "code",
   "execution_count": 6,
   "id": "b5b0e067",
   "metadata": {},
   "outputs": [],
   "source": [
    "# lists no. of job posting\n",
    "no_of_jobs = int(wd.find_element(\"css selector\", \"h1 > span\").get_attribute(\"innerText\"))\n"
   ]
  },
  {
   "cell_type": "code",
   "execution_count": 7,
   "id": "91a153b5",
   "metadata": {},
   "outputs": [],
   "source": [
    "# scrolling for you\n",
    "i = 2\n",
    "while i <= int(no_of_jobs/25)+1: \n",
    "    wd.execute_script(\"window.scrollTo(0, document.body.scrollHeight);\")\n",
    "    i = i + 1\n",
    "    try:\n",
    "        wd.find_element_by_xpath(\"/html/body/main/div/section/button\").click()\n",
    "        time.sleep(5)\n",
    "    except:\n",
    "        pass\n",
    "        time.sleep(5)"
   ]
  },
  {
   "cell_type": "code",
   "execution_count": 8,
   "id": "879adba4",
   "metadata": {},
   "outputs": [],
   "source": [
    "job_lists = wd.find_element('class name','jobs-search__results-list')\n",
    "jobs = job_lists.find_elements('tag name','li') # return a list"
   ]
  },
  {
   "cell_type": "code",
   "execution_count": 9,
   "id": "a69355df",
   "metadata": {},
   "outputs": [],
   "source": [
    "# Element extraction.\n",
    "job_id= []\n",
    "job_title = []\n",
    "company_name = []\n",
    "location = []\n",
    "date = []\n",
    "job_link = []\n",
    "for job in jobs:\n",
    "    job_id0 = job.get_attribute(\"data-id\")\n",
    "    job_id.append(job_id0)\n",
    "\n",
    "    job_title0 = job.find_element('css selector','h3').get_attribute('innerText')\n",
    "    job_title.append(job_title0)\n",
    "\n",
    "    company_name0 = job.find_element('css selector','h4').get_attribute('innerText')\n",
    "    company_name.append(company_name0)\n",
    "\n",
    "    location0 = job.find_element('css selector',\"[class='job-search-card__location']\").get_attribute('innerText')\n",
    "    location.append(location0)\n",
    "   \n",
    "\n",
    "    date0 = job.find_element('css selector','div>div>time').get_attribute('datetime')\n",
    "    date.append(date0)\n",
    "\n",
    "    job_link0 = job.find_element('css selector','a').get_attribute('href')\n",
    "    job_link.append(job_link0)"
   ]
  },
  {
   "cell_type": "code",
   "execution_count": 10,
   "id": "55ffeb05",
   "metadata": {},
   "outputs": [],
   "source": [
    "df=pd.DataFrame({'Title':job_title,'Company_name':company_name,'Location':location,'Date':date,'Job Link':job_link})"
   ]
  },
  {
   "cell_type": "code",
   "execution_count": 11,
   "id": "02d526b1",
   "metadata": {},
   "outputs": [],
   "source": [
    "\n",
    "import gspread\n",
    "from gspread_dataframe import set_with_dataframe\n",
    "from google.oauth2.service_account import Credentials\n",
    "from pydrive.auth import GoogleAuth\n",
    "from pydrive.drive import GoogleDrive\n",
    "\n",
    "scopes = [\"https://spreadsheets.google.com/feeds\",'https://www.googleapis.com/auth/spreadsheets',\"https://www.googleapis.com/auth/drive.file\",\"https://www.googleapis.com/auth/drive\"]"
   ]
  },
  {
   "cell_type": "code",
   "execution_count": 12,
   "id": "6ba801bb",
   "metadata": {},
   "outputs": [],
   "source": [
    "credentials = Credentials.from_service_account_file(filename='lucid-destiny-344212-cbbebad672a7.json',scopes=scopes)"
   ]
  },
  {
   "cell_type": "code",
   "execution_count": 13,
   "id": "ea9027f0",
   "metadata": {},
   "outputs": [],
   "source": [
    "gc = gspread.authorize(credentials)\n",
    "\n",
    "gauth = GoogleAuth()\n",
    "drive = GoogleDrive(gauth)\n"
   ]
  },
  {
   "cell_type": "code",
   "execution_count": 14,
   "id": "f5d6c13c",
   "metadata": {},
   "outputs": [],
   "source": [
    "# # open a google sheet\n",
    "# gs = gc.open_by_url('https://docs.google.com/spreadsheets/d/1RnwjV0Qd_OdMWSRLoVsUOs_mKn5DEgMDOwD0Hhsc0Kg/edit#gid=0')\n",
    "# # select a work sheet from its name\n",
    "# worksheet1 = gs.worksheet('Sheet1')\n",
    "\n",
    "# # write to dataframe (first load)\n",
    "# worksheet1.clear()\n",
    "# set_with_dataframe(worksheet=worksheet1, dataframe=df, include_index=False,\n",
    "# include_column_header=True)\n"
   ]
  },
  {
   "cell_type": "code",
   "execution_count": null,
   "id": "ed6b22b5",
   "metadata": {},
   "outputs": [],
   "source": [
    "open_sheet = gc.open_by_url('https://docs.google.com/spreadsheets/d/1RnwjV0Qd_OdMWSRLoVsUOs_mKn5DEgMDOwD0Hhsc0Kg/edit#gid=0').sheet1   \n",
    "data = open_sheet.get_all_records() \n",
    "df2=pd.DataFrame(data)"
   ]
  },
  {
   "cell_type": "code",
   "execution_count": null,
   "id": "b97c072e",
   "metadata": {},
   "outputs": [],
   "source": [
    "df3=pd.concat([df2,df])"
   ]
  },
  {
   "cell_type": "code",
   "execution_count": null,
   "id": "960e37c6",
   "metadata": {},
   "outputs": [],
   "source": [
    "df3"
   ]
  },
  {
   "cell_type": "code",
   "execution_count": null,
   "id": "8780d696",
   "metadata": {},
   "outputs": [],
   "source": [
    "df3.drop_duplicates(keep='first',inplace=True, subset=['Title','Company_name','Location','Date'])"
   ]
  },
  {
   "cell_type": "code",
   "execution_count": null,
   "id": "421cc02e",
   "metadata": {},
   "outputs": [],
   "source": [
    "# worksheet1=sheet.worksheet('Sheet1')\n",
    "# worksheet1.clear()\n",
    "#worksheet1 = open_sheet.worksheet('Sheet1')\n",
    "open_sheet.clear()\n",
    "set_with_dataframe(worksheet=open_sheet, dataframe=df3, include_index=False,include_column_header=True)"
   ]
  },
  {
   "cell_type": "code",
   "execution_count": null,
   "id": "a43b0b41",
   "metadata": {},
   "outputs": [],
   "source": []
  }
 ],
 "metadata": {
  "kernelspec": {
   "display_name": "Python 3 (ipykernel)",
   "language": "python",
   "name": "python3"
  },
  "language_info": {
   "codemirror_mode": {
    "name": "ipython",
    "version": 3
   },
   "file_extension": ".py",
   "mimetype": "text/x-python",
   "name": "python",
   "nbconvert_exporter": "python",
   "pygments_lexer": "ipython3",
   "version": "3.10.2"
  }
 },
 "nbformat": 4,
 "nbformat_minor": 5
}
